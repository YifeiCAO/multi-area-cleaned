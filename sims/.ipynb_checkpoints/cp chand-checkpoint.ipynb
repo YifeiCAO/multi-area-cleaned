{
 "cells": [
  {
   "cell_type": "code",
   "execution_count": 88,
   "metadata": {},
   "outputs": [],
   "source": "from __future__ import division\ndef rate_dist(rates, min_rate=0, max_rate=100, bins=10):\n    hist, edges = np.histogram(rates, bins=bins, range=(min_rate, max_rate))\n    return (edges, hist)\n\ndef choice_prob_single(rates0, rates1, bins=10):\n    # rates is a list of two rates, rates0 being one condition and rates1 being the other\n    min_rate    = min(min(rates0), min(rates1))\n    max_rate    = max(max(rates0), max(rates1))\n#     print(min_rate)\n#     print(max_rate)\n\n#     print(rates0.shape)\n    rate_dist0, edges = np.histogram(rates0, bins=bins, range = (min_rate, max_rate))\n    rate_dist1, edges = np.histogram(rates1, bins=bins, range = (min_rate, max_rate))\n    \n    # these are the pmf distributions of the rates in the two conditions.\n#     print(rate_dist0)\n#     print(len(rates0))\n    rate_dist0 = rate_dist0 / len(rates0)\n    rate_dist1 = rate_dist1 / len(rates1)\n\n#     print(rate_dist0)\n#     print(rate_dist1)\n    # these are the cdf of the rates in the two conditions\n    cdist0 = np.cumsum(rate_dist0)\n    cdist1 = np.cumsum(rate_dist1)\n\n    # insert 0's in case there's a large instance of 0 firing rates\n    cdist0 = np.insert(cdist0, 0, 0)\n    cdist1 = np.insert(cdist1, 0, 0)\n\n    # false and true positive rates\n    false_pos_rate  = np.flipud(1 - cdist0)\n    true_pos_rate   = np.flipud(1 - cdist1)\n\n    choice_prob = np.trapz(true_pos_rate, false_pos_rate)\n\n    return choice_prob"
  },
  {
   "cell_type": "code",
   "execution_count": 148,
   "metadata": {},
   "outputs": [],
   "source": "# Color Choice\nimport scipy.io as sio\nfilepath = '/home2/michael/forKaoAndKleinman/colFR.mat'\ndata = sio.loadmat(filepath)\nrates0 = data['AllFR1_dir']\nrates1 = data['AllFR2_dir']\nresult = np.zeros((996, ))\nfor i in range(996):\n    r0 = rates0[0, i].reshape(rates0[0, i].shape[0], )\n    r1 = rates1[0, i].reshape(rates1[0, i].shape[0], )\n    result[i] = choice_prob_single(r0, r1, bins=100)\n    if result[i] < 0.5:\n        result[i] = 1 - result[i]\n"
  },
  {
   "cell_type": "code",
   "execution_count": 180,
   "metadata": {},
   "outputs": [
    {
     "data": {
      "image/png": "[encoded data removed]"
     },
     "metadata": {
      "needs_background": "light"
     },
     "output_type": "display_data"
    }
   ],
   "source": "# import matplotlib.pyplot as plt\nsavepath = '/home2/michael/work/projects/information/results'\nplt.figure(figsize=(5,1))\nplt.hist(result, 30, color='black', range = (0.5, 1))\nplt.xlim(0.4, 1.1)\nplt.xticks([0.5, 0.75, 1])\n# plt.show()\nplt.savefig(savepath + '/colCP.pdf')\n\n"
  },
  {
   "cell_type": "code",
   "execution_count": 175,
   "metadata": {},
   "outputs": [],
   "source": "# Direction Choice\nfilepath = '/home2/michael/forKaoAndKleinman/dirFR.mat'\ndata = sio.loadmat(filepath)\nrates0 = data['AllFR1_dir']\nrates1 = data['AllFR2_dir']\nresult_dir = np.zeros((996, ))\nfor i in range(996):\n    r0 = rates0[0, i].reshape(rates0[0, i].shape[0], )\n    r1 = rates1[0, i].reshape(rates1[0, i].shape[0], )\n    result_dir[i] = choice_prob_single(r0, r1, bins=100)\n    if result_dir[i] < 0.5:\n        result_dir[i] = 1 - result_dir[i]\n\n"
  },
  {
   "cell_type": "code",
   "execution_count": 178,
   "metadata": {},
   "outputs": [
    {
     "data": {
      "image/png": "[encoded data removed]"
     },
     "metadata": {
      "needs_background": "light"
     },
     "output_type": "display_data"
    }
   ],
   "source": "plt.figure(figsize=(5,1))\nplt.hist(result_dir, 30, color = 'black', range = (0.5, 1))\nplt.xlim(0.4, 1.1)\nplt.xticks([0.5, 0.75, 1])\nplt.savefig(savepath + '/dirCP.pdf')\n# plt.show()"
  },
  {
   "cell_type": "code",
   "execution_count": 182,
   "metadata": {},
   "outputs": [
    {
     "data": {
      "image/png": "[encoded data removed]"
     },
     "metadata": {
      "needs_background": "light"
     },
     "output_type": "display_data"
    }
   ],
   "source": "plt.figure(figsize=(5,5))\nplt.scatter(result, result_dir, color = 'black', alpha = 0.75)\nplt.xlim(0.4, 1.1)\nplt.ylim(0.4, 1.1)\nplt.xticks([0.5, 0.75, 1])\nplt.yticks([0.5, 0.75, 1])\nplt.savefig(savepath + '/scatterCP.pdf')\n\n"
  },
  {
   "cell_type": "markdown",
   "metadata": {},
   "source": "## Targeted dimensionality reduction"
  },
  {
   "cell_type": "code",
   "execution_count": 2,
   "metadata": {},
   "outputs": [],
   "source": "import scipy.io as sio\nfilepath = '/home2/michael/forKaoAndKleinman/tdr.mat'\ntdrdata = sio.loadmat(filepath)"
  },
  {
   "cell_type": "code",
   "execution_count": 3,
   "metadata": {},
   "outputs": [
    {
     "data": {},
     "execution_count": 3,
     "metadata": {},
     "output_type": "execute_result"
    }
   ],
   "source": "tdrdata.keys()"
  },
  {
   "cell_type": "code",
   "execution_count": 4,
   "metadata": {},
   "outputs": [],
   "source": "dat = tdrdata['dat']\nmetaChosenColor = tdrdata['metaChosenColor']\nmetaReachDir = tdrdata['metaReachDir']\nmetaTargetConfiguration = tdrdata['metaTargetConfiguration']\nmetaSignedColorCoherence = tdrdata['metaSignedColorCoherence']"
  },
  {
   "cell_type": "code",
   "execution_count": 5,
   "metadata": {},
   "outputs": [
    {
     "name": "stdout",
     "output_type": "stream",
     "text": "(1, 996)\n(1, 996)\n"
    }
   ],
   "source": "print metaChosenColor.shape\nprint(dat.shape)"
  },
  {
   "cell_type": "code",
   "execution_count": 6,
   "metadata": {},
   "outputs": [
    {
     "ename": "NameError",
     "evalue": "name 'reachDir' is not defined",
     "output_type": "error",
     "traceback": [
      "\u001b[0;31m---------------------------------------------------------------------------\u001b[0m",
      "\u001b[0;31mNameError\u001b[0m                                 Traceback (most recent call last)",
      "\u001b[0;32m<ipython-input-6-543606d4bfdf>\u001b[0m in \u001b[0;36m<module>\u001b[0;34m()\u001b[0m\n\u001b[1;32m      1\u001b[0m \u001b[0mdat\u001b[0m\u001b[0;34m[\u001b[0m\u001b[0;36m0\u001b[0m\u001b[0;34m,\u001b[0m \u001b[0;36m0\u001b[0m\u001b[0;34m]\u001b[0m\u001b[0;34m.\u001b[0m\u001b[0mshape\u001b[0m\u001b[0;34m\u001b[0m\u001b[0m\n\u001b[0;32m----> 2\u001b[0;31m \u001b[0mreachDir\u001b[0m\u001b[0;34m.\u001b[0m\u001b[0mshape\u001b[0m\u001b[0;34m\u001b[0m\u001b[0m\n\u001b[0m\u001b[1;32m      3\u001b[0m \u001b[0;32mprint\u001b[0m\u001b[0;34m(\u001b[0m\u001b[0mtargetConfig\u001b[0m\u001b[0;34m[\u001b[0m\u001b[0;34m:\u001b[0m\u001b[0;34m,\u001b[0m \u001b[0;36m0\u001b[0m\u001b[0;34m]\u001b[0m\u001b[0;34m)\u001b[0m\u001b[0;34m\u001b[0m\u001b[0m\n\u001b[1;32m      4\u001b[0m \u001b[0;32mprint\u001b[0m\u001b[0;34m(\u001b[0m\u001b[0mcolChoice\u001b[0m\u001b[0;34m.\u001b[0m\u001b[0mshape\u001b[0m\u001b[0;34m)\u001b[0m\u001b[0;34m\u001b[0m\u001b[0m\n",
      "\u001b[0;31mNameError\u001b[0m: name 'reachDir' is not defined"
     ]
    }
   ],
   "source": "dat[0, 0].shape\nreachDir.shape\nprint(targetConfig[:, 0])\nprint(colChoice.shape)"
  },
  {
   "cell_type": "code",
   "execution_count": 29,
   "metadata": {},
   "outputs": [
    {
     "name": "stdout",
     "output_type": "stream",
     "text": "0\n1\n2\n3\n4\n5\n6\n7\n8\n9\n10\n11\n12\n13\n14\n15\n16\n17\n18\n19\n20\n21\n22\n23\n24\n25\n26\n27\n28\n29\n30\n31\n32\n33\n34\n35\n36\n37\n38\n39\n40\n41\n42\n43\n44\n45\n46\n47\n48\n49\n50\n51\n52\n53\n54\n55\n56\n57\n58\n59\n60\n61\n62\n63\n64\n65\n66\n67\n68\n69\n70\n71\n72\n73\n74\n75\n76\n77\n78\n79\n80\n81\n82\n83\n84\n85\n86\n87\n88\n89\n90\n91\n92\n93\n94\n95\n96\n97\n98\n99\n100\n101\n102\n103\n104\n105\n106\n107\n108\n109\n110\n111\n112\n113\n114\n115\n116\n117\n118\n119\n120\n121\n122\n123\n124\n125\n126\n127\n128\n129\n130\n131\n132\n133\n134\n135\n136\n137\n138\n139\n140\n141\n142\n143\n144\n145\n146\n147\n148\n149\n150\n151\n152\n153\n154\n155\n156\n157\n158\n159\n160\n161\n162\n163\n164\n165\n166\n167\n168\n169\n170\n171\n172\n173\n174\n175\n176\n177\n178\n179\n180\n181\n182\n183\n184\n185\n186\n187\n188\n189\n190\n191\n192\n193\n194\n195\n196\n197\n198\n199\n200\n201\n202\n203\n204\n205\n206\n207\n208\n209\n210\n211\n212\n213\n214\n215\n216\n217\n218\n219\n220\n221\n222\n223\n224\n225\n226\n227\n228\n229\n230\n231\n232\n233\n234\n235\n236\n237\n238\n239\n240\n241\n242\n243\n244\n245\n246\n247\n248\n249\n250\n251\n252\n253\n254\n255\n256\n257\n258\n259\n260\n261\n262\n263\n264\n265\n266\n267\n268\n269\n270\n271\n272\n273\n274\n275\n276\n277\n278\n279\n280\n281\n282\n283\n284\n285\n286\n287\n288\n289\n290\n291\n292\n293\n294\n295\n296\n297\n298\n299\n300\n301\n302\n303\n304\n305\n306\n307\n308\n309\n310\n311\n312\n313\n314\n315\n316\n317\n318\n319\n320\n321\n322\n323\n324\n325\n326\n327\n328\n329\n330\n331\n332\n333\n334\n335\n336\n337\n338\n339\n340\n341\n342\n343\n344\n345\n346\n347\n348\n349\n350\n351\n352\n353\n354\n355\n356\n357\n358\n359\n360\n361\n362\n363\n364\n365\n366\n367\n368\n369\n370\n371\n372\n373\n374\n375\n376\n377\n378\n379\n380\n381\n382\n383\n384\n385\n386\n387\n388\n389\n390\n391\n392\n393\n394\n395\n396\n397\n398\n399\n400\n401\n402\n403\n404\n405\n406\n407\n408\n409\n410\n411\n412\n413\n414\n415\n416\n417\n418\n419\n420\n421\n422\n423\n424\n425\n426\n427\n428\n429\n430\n431\n432\n433\n434\n435\n436\n437\n438\n439\n440\n441\n442\n443\n444\n445\n446\n447\n448\n449\n450\n451\n452\n453\n454\n455\n456\n457\n458\n459\n460\n461\n462\n463\n464\n465\n466\n467\n468\n469\n470\n471\n472\n473\n474\n475\n476\n477\n478\n479\n480\n481\n482\n483\n484\n485\n486\n487\n488\n489\n490\n491\n492\n493\n494\n495\n496\n497\n498\n499\n500\n501\n502\n503\n504\n505\n506\n507\n508\n509\n510\n511\n512\n513\n514\n515\n516\n517\n518\n519\n520\n521\n522\n523\n524\n525\n526\n527\n528\n529\n530\n531\n532\n533\n534\n535\n536\n537\n538\n539\n540\n541\n542\n543\n544\n545\n546\n547\n548\n549\n550\n551\n552\n553\n554\n555\n556\n557\n558\n559\n560\n561\n562\n563\n564\n565\n566\n567\n568\n569\n570\n571\n572\n573\n574\n575\n576\n577\n578\n579\n580\n581\n582\n583\n584\n585\n586\n587\n588\n589\n590\n591\n592\n593\n594\n595\n596\n597\n598\n599\n600\n601\n602\n603\n604\n605\n606\n607\n608\n609\n610\n611\n612\n613\n614\n615\n616\n617\n618\n619\n620\n621\n622\n623\n624\n625\n626\n627\n628\n629\n630\n631\n632\n633\n634\n635\n636\n637\n638\n639\n640\n641\n642\n643\n644\n645\n646\n647\n648\n649\n650\n651\n652\n653\n654\n655\n656\n657\n658\n659\n660\n661\n662\n663\n664\n665\n666\n667\n668\n669\n670\n671\n672\n673\n674\n675\n676\n677\n678\n679\n680\n681\n682\n683\n684\n685\n686\n687\n688\n689\n690\n691\n692\n693\n694\n695\n696\n697\n698\n699\n700\n701\n702\n703\n704\n705\n706\n707\n708\n709\n710\n711\n712\n713\n714\n715\n716\n717\n718\n719\n720\n721\n722\n723\n724\n725\n726\n727\n728\n729\n730\n731\n732\n733\n734\n735\n736\n737\n738\n739\n740\n741\n742\n743\n744\n745\n746\n747\n748\n749\n750\n751\n752\n753\n754\n755\n756\n757\n758\n759\n760\n761\n762\n763\n764\n765\n766\n767\n768\n769\n770\n771\n772\n773\n774\n775\n776\n777\n778\n779\n780\n781\n782\n783\n784\n785\n786\n787\n788\n789\n790\n791\n792\n793\n794\n795\n796\n797\n798\n799\n800\n801\n802\n803\n804\n805\n806\n807\n808\n809\n810\n811\n812\n813\n814\n815\n816\n817\n818\n819\n820\n821\n822\n823\n824\n825\n826\n827\n828\n829\n830\n831\n832\n833\n834\n835\n836\n837\n838\n839\n840\n841\n842\n843\n844\n845\n846\n847\n848\n849\n850\n851\n852\n853\n854\n855\n856\n857\n858\n859\n860\n861\n862\n863\n864\n865\n866\n867\n868\n869\n870\n871\n872\n873\n874\n875\n876\n877\n878\n879\n880\n881\n882\n883\n884\n885\n886\n887\n888\n889\n890\n891\n892\n893\n894\n895\n896\n897\n898\n899\n900\n901\n902\n903\n904\n905\n906\n907\n908\n909\n910\n911\n912\n913\n914\n915\n916\n917\n918\n919\n920\n921\n922\n923\n924\n925\n926\n927\n928\n929\n930\n931\n932\n933\n934\n935\n936\n937\n938\n939\n940\n941\n942\n943\n944\n945\n946\n947\n948\n949\n950\n951\n952\n953\n954\n955\n956\n957\n958\n959\n960\n961\n962\n963\n964\n965\n966\n967\n968\n969\n970\n971\n972\n973\n974\n975\n976\n977\n978\n979\n980\n981\n982\n983\n984\n985\n986\n987\n988\n989\n990\n991\n992\n993\n994\n995\n"
    }
   ],
   "source": "import numpy as np\nbetas_store = np.zeros((996, 4, 1801))\n\nfor unit in range(996):\n    print(unit)\n    rates = dat[0, unit]\n    colChoice = metaChosenColor[0, unit]\n    colCoh = metaSignedColorCoherence[0, unit]\n    reachDir = metaReachDir[0, unit]\n    targetConfig = metaTargetConfiguration[0, unit]\n    m = np.mean(rates)\n    std = np.std(rates)\n    temp = rates - m\n    zrates = temp/std\n\n    ntrials = reachDir.shape[0]\n    ncoef = 4\n    F = np.zeros((ncoef, ntrials))\n    F[3, :] = 1\n\n    for i in range(ntrials):\n    #   do the mapping\n        if reachDir[i, 0] == 2:\n            reachDirtemp = 1\n        else:\n            reachDirtemp = -1\n\n        if targetConfig[i, 0] == -1:\n            targetConfigTemp = - 1\n        if targetConfig[i, 0] == 1:\n            targetConfigTemp = 1\n\n        if colChoice[i, 0] == 2:\n            colChoiceTemp = 1\n        if colChoice[i, 0] == 3:\n            colChoiceTemp = -1\n\n    #     print(reachDirtemp)\n    #     print targetConfigTemp\n    #     print(colChoiceTemp)\n        F[0, i] = reachDirtemp\n        F[1, i] = colCoh[i, 0] #colChoiceTemp # maybe divide by 0.9022 so that it's normalized\n        F[2, i] = targetConfigTemp\n\n#     print(F.shape)\n    A = np.linalg.inv(F.dot(F.T)).dot(F)\n    betas = A.dot(zrates)\n    betas_store[unit, :, :] = betas\n"
  },
  {
   "cell_type": "code",
   "execution_count": 30,
   "metadata": {},
   "outputs": [],
   "source": "for i in range(1801):\n    maxnorm1 = 0\n    maxnorm2 = 0\n    maxnorm3 = 0\n    temp1 = np.linalg.norm(betas_store[:, 0, i])\n    temp2 = np.linalg.norm(betas_store[:, 1, i])\n    temp3 = np.linalg.norm(betas_store[:, 2, i])\n    if temp1 > maxnorm1:\n        maxnorm1 = temp1\n#             maxind1[j] = i           \n    if temp2 > maxnorm2:\n        maxnorm2 = temp2\n#             maxind2[j] = i     \n    if temp3 > maxnorm3:\n        maxnorm3 = temp3\n#             maxind3[j] = i"
  },
  {
   "cell_type": "code",
   "execution_count": 31,
   "metadata": {},
   "outputs": [
    {
     "name": "stdout",
     "output_type": "stream",
     "text": "6.5517541119425475\n"
    }
   ],
   "source": "print(maxnorm1)"
  },
  {
   "cell_type": "code",
   "execution_count": 32,
   "metadata": {},
   "outputs": [
    {
     "name": "stdout",
     "output_type": "stream",
     "text": "2.69653245033231\n"
    }
   ],
   "source": "print(maxnorm2)"
  },
  {
   "cell_type": "code",
   "execution_count": 33,
   "metadata": {},
   "outputs": [
    {
     "name": "stdout",
     "output_type": "stream",
     "text": "1.3085012454606664\n"
    }
   ],
   "source": "print(maxnorm3)"
  },
  {
   "cell_type": "markdown",
   "metadata": {},
   "source": "## compare with single RNN"
  },
  {
   "cell_type": "code",
   "execution_count": 38,
   "metadata": {},
   "outputs": [
    {
     "name": "stdout",
     "output_type": "stream",
     "text": "(0.0, 21.168)\n"
    },
    {
     "data": {
      "image/png": "[encoded data removed]"
     },
     "metadata": {
      "needs_background": "light"
     },
     "output_type": "display_data"
    }
   ],
   "source": "import matplotlib.pyplot as plt\n\ncolor_single = 20.16\ndirection_single = 8.48\n\ndirection_data = maxnorm1\ncolor_data = maxnorm2\n\nbarWidth = 0.25\nlayer1c = np.array([color_single, color_single])\nlayer2c = np.array([direction_single, direction_single])\n# layer3c = np.array([beta_max1[2]])\n\nr1 = np.arange(len(layer1c))\nr2 = [x + barWidth for x in r1]\n\nplt.figure(figsize=(5,2))\nplt.bar(r1, layer1c, width = barWidth, color = 'maroon', edgecolor = 'black', capsize=7, label='color')\nplt.bar(r2, layer2c, width = barWidth, color = 'orange', edgecolor = 'black', capsize=7, label='direction')\n# plt.bar(r, layer3c, width = barWidth, color = 'green', edgecolor = 'black', capsize=7, label='orientation')\n\n# general layout\nplt.xticks([r + barWidth/2 for r in range(len(layer1c))], ['RNN', 'data'])\nplt.ylabel('Beta magnitudes')\nplt.legend()\nprint(plt.ylim())\nsavepath = '/home2/michael/work/projects/information/results'\nplt.savefig(savepath + '/betas_single_data.pdf')\n"
  },
  {
   "cell_type": "code",
   "execution_count": 40,
   "metadata": {},
   "outputs": [
    {
     "name": "stdout",
     "output_type": "stream",
     "text": "(0.0, 6.879341817539675)\n"
    },
    {
     "data": {
      "image/png": "[encoded data removed]"
     },
     "metadata": {
      "needs_background": "light"
     },
     "output_type": "display_data"
    }
   ],
   "source": "barWidth = 0.25\nlayer1c = np.array([color_data, color_data])\nlayer2c = np.array([direction_data, direction_data])\n# layer3c = np.array([beta_max1[2]])\n\nr1 = np.arange(len(layer1c))\nr2 = [x + barWidth for x in r1]\n\nplt.figure(figsize=(5,2))\nplt.bar(r1, layer1c, width = barWidth, color = 'maroon', edgecolor = 'black', capsize=7, label='color')\nplt.bar(r2, layer2c, width = barWidth, color = 'orange', edgecolor = 'black', capsize=7, label='direction')\n# plt.bar(r, layer3c, width = barWidth, color = 'green', edgecolor = 'black', capsize=7, label='orientation')\n\n# general layout\nplt.xticks([r + barWidth/2 for r in range(len(layer1c))], ['RNN', 'data'])\nplt.ylabel('Beta magnitudes')\nplt.legend()\nprint(plt.ylim())\nsavepath = '/home2/michael/work/projects/information/results'\nplt.savefig(savepath + '/betas_data.pdf')"
  },
  {
   "cell_type": "code",
   "execution_count": null,
   "metadata": {},
   "outputs": [],
   "source": ""
  }
 ],
 "metadata": {
  "kernelspec": {
   "display_name": "Python 2",
   "language": "python",
   "name": "python2"
  },
  "language_info": {
   "codemirror_mode": {
    "name": "ipython",
    "version": 2
   },
   "file_extension": ".py",
   "mimetype": "text/x-python",
   "name": "python",
   "nbconvert_exporter": "python",
   "pygments_lexer": "ipython2",
   "version": "2.7.17"
  }
 },
 "nbformat": 4,
 "nbformat_minor": 2
}
